{
 "cells": [
  {
   "cell_type": "markdown",
   "metadata": {},
   "source": [
    "# Step 1: get API into csv"
   ]
  },
  {
   "cell_type": "code",
   "execution_count": 1,
   "metadata": {},
   "outputs": [],
   "source": [
    "import pandas as pd\n",
    "import requests\n",
    "import warnings\n",
    "warnings.filterwarnings('ignore')\n",
    "\n",
    "pd.options.display.max_columns = 100 \n",
    "pd.options.display.max_rows = 3000  "
   ]
  },
  {
   "cell_type": "code",
   "execution_count": 2,
   "metadata": {},
   "outputs": [],
   "source": [
    "def start_data(subreddit):\n",
    "    url = 'https://api.pushshift.io/reddit/search/submission'\n",
    "    params = {\n",
    "    'subreddit' : subreddit,\n",
    "    'size' : 500\n",
    "    }\n",
    "    res = requests.get(url,params)\n",
    "    data = res.json()\n",
    "    df = pd.DataFrame(data['data'])\n",
    "    return df"
   ]
  },
  {
   "cell_type": "code",
   "execution_count": 3,
   "metadata": {},
   "outputs": [],
   "source": [
    "def add_data(subreddit,size,df_old):\n",
    "    url = 'https://api.pushshift.io/reddit/search/submission'\n",
    "    params_new = {\n",
    "    'subreddit' : subreddit,\n",
    "    'size' : size,\n",
    "    'before' : df_old['created_utc'][len(df_old)-1]\n",
    "    }\n",
    "    res = requests.get(url, params_new)\n",
    "    data = res.json()\n",
    "    df_in = pd.DataFrame(data['data'])\n",
    "    df_new = pd.concat([df_old, df_in], ignore_index= True)\n",
    "    return df_new"
   ]
  },
  {
   "cell_type": "markdown",
   "metadata": {},
   "source": [
    "## AskThe_Donald (Positive Trump)"
   ]
  },
  {
   "cell_type": "code",
   "execution_count": 4,
   "metadata": {},
   "outputs": [],
   "source": [
    "trump_pos_1 = start_data('AskThe_Donald')\n",
    "\n",
    "trump_pos_2 = add_data('AskThe_Donald',500, trump_pos_1)\n",
    "\n",
    "trump_pos_3 = add_data('AskThe_Donald',500, trump_pos_2)\n",
    "\n",
    "trump_pos_4 = add_data('AskThe_Donald',500, trump_pos_3)\n",
    "\n",
    "trump_pos_5 = add_data('AskThe_Donald',500, trump_pos_4)\n",
    "\n",
    "trump_pos_6 = add_data('AskThe_Donald',500, trump_pos_5)\n",
    "\n",
    "trump_pos_7 = add_data('AskThe_Donald',500, trump_pos_6)\n",
    "\n",
    "trump_pos_8 = add_data('AskThe_Donald',500, trump_pos_7)\n",
    "\n",
    "trump_pos_9 = add_data('AskThe_Donald',500, trump_pos_8)\n",
    "\n",
    "trump_pos_10 = add_data('AskThe_Donald',500, trump_pos_9)\n"
   ]
  },
  {
   "cell_type": "code",
   "execution_count": 5,
   "metadata": {},
   "outputs": [
    {
     "name": "stdout",
     "output_type": "stream",
     "text": [
      "(500, 75)\n",
      "(1000, 76)\n",
      "(1500, 78)\n",
      "(2000, 80)\n",
      "(2500, 80)\n",
      "(3000, 80)\n",
      "(3500, 80)\n",
      "(4000, 80)\n",
      "(4500, 80)\n",
      "(5000, 80)\n"
     ]
    }
   ],
   "source": [
    "print (trump_pos_1.shape)\n",
    "print (trump_pos_2.shape)\n",
    "print (trump_pos_3.shape)\n",
    "print (trump_pos_4.shape)\n",
    "print (trump_pos_5.shape)\n",
    "print (trump_pos_6.shape)\n",
    "print (trump_pos_7.shape)\n",
    "print (trump_pos_8.shape)\n",
    "print (trump_pos_9.shape)\n",
    "print (trump_pos_10.shape)"
   ]
  },
  {
   "cell_type": "code",
   "execution_count": 6,
   "metadata": {},
   "outputs": [
    {
     "data": {
      "text/plain": [
       "(5000, 80)"
      ]
     },
     "execution_count": 6,
     "metadata": {},
     "output_type": "execute_result"
    }
   ],
   "source": [
    "trump_positive = trump_pos_10\n",
    "trump_positive.shape"
   ]
  },
  {
   "cell_type": "markdown",
   "metadata": {},
   "source": [
    "## EnoughTrumpSpam (Negative Trump)"
   ]
  },
  {
   "cell_type": "code",
   "execution_count": 23,
   "metadata": {},
   "outputs": [],
   "source": [
    "trump_neg_1 = start_data('EnoughTrumpSpam')\n",
    "\n",
    "trump_neg_2 = add_data('EnoughTrumpSpam',500, trump_neg_1)\n",
    "\n",
    "trump_neg_3 = add_data('EnoughTrumpSpam',500, trump_neg_2)\n",
    "\n",
    "trump_neg_4 = add_data('EnoughTrumpSpam',500, trump_neg_3)\n",
    "\n",
    "trump_neg_5 = add_data('EnoughTrumpSpam',500, trump_neg_4)\n",
    "\n",
    "trump_neg_6 = add_data('EnoughTrumpSpam',500, trump_neg_5)\n",
    "\n",
    "trump_neg_7 = add_data('EnoughTrumpSpam',500, trump_neg_6)\n",
    "\n",
    "trump_neg_8 = add_data('EnoughTrumpSpam',500, trump_neg_7)\n",
    "\n",
    "trump_neg_9 = add_data('EnoughTrumpSpam',500, trump_neg_8)\n",
    "\n",
    "trump_neg_10 = add_data('EnoughTrumpSpam',500, trump_neg_9)\n",
    "\n",
    "trump_neg_11 = add_data('EnoughTrumpSpam',500, trump_neg_10)\n",
    "\n",
    "trump_neg_12 = add_data('EnoughTrumpSpam',500, trump_neg_11)\n",
    "\n",
    "trump_neg_13 = add_data('EnoughTrumpSpam',500, trump_neg_12)"
   ]
  },
  {
   "cell_type": "code",
   "execution_count": 24,
   "metadata": {},
   "outputs": [
    {
     "name": "stdout",
     "output_type": "stream",
     "text": [
      "(500, 71)\n",
      "(1000, 73)\n",
      "(1500, 73)\n",
      "(2000, 75)\n",
      "(2500, 76)\n",
      "(3000, 78)\n",
      "(3500, 78)\n",
      "(4000, 78)\n",
      "(4500, 78)\n",
      "(5000, 78)\n",
      "(5500, 79)\n",
      "(6000, 79)\n",
      "(6500, 79)\n"
     ]
    }
   ],
   "source": [
    "print (trump_neg_1.shape)\n",
    "print (trump_neg_2.shape)\n",
    "print (trump_neg_3.shape)\n",
    "print (trump_neg_4.shape)\n",
    "print (trump_neg_5.shape)\n",
    "print (trump_neg_6.shape)\n",
    "print (trump_neg_7.shape)\n",
    "print (trump_neg_8.shape)\n",
    "print (trump_neg_9.shape)\n",
    "print (trump_neg_10.shape)\n",
    "print (trump_neg_11.shape)\n",
    "print (trump_neg_12.shape)\n",
    "print (trump_neg_13.shape)"
   ]
  },
  {
   "cell_type": "code",
   "execution_count": 25,
   "metadata": {},
   "outputs": [
    {
     "data": {
      "text/plain": [
       "(6500, 79)"
      ]
     },
     "execution_count": 25,
     "metadata": {},
     "output_type": "execute_result"
    }
   ],
   "source": [
    "trump_negative = trump_neg_13\n",
    "trump_negative.shape"
   ]
  },
  {
   "cell_type": "code",
   "execution_count": 32,
   "metadata": {},
   "outputs": [
    {
     "data": {
      "text/plain": [
       "0"
      ]
     },
     "execution_count": 32,
     "metadata": {},
     "output_type": "execute_result"
    }
   ],
   "source": [
    "trump_negative['selftext'].isnull().sum()"
   ]
  },
  {
   "cell_type": "code",
   "execution_count": 30,
   "metadata": {},
   "outputs": [
    {
     "data": {
      "text/plain": [
       "(76, 79)"
      ]
     },
     "execution_count": 30,
     "metadata": {},
     "output_type": "execute_result"
    }
   ],
   "source": [
    "trump_negative[trump_negative['selftext'] == '[removed]'].shape"
   ]
  },
  {
   "cell_type": "code",
   "execution_count": 31,
   "metadata": {},
   "outputs": [
    {
     "data": {
      "text/plain": [
       "(1740, 80)"
      ]
     },
     "execution_count": 31,
     "metadata": {},
     "output_type": "execute_result"
    }
   ],
   "source": [
    "trump_positive[trump_positive['selftext'] == '[removed]'].shape"
   ]
  },
  {
   "cell_type": "markdown",
   "metadata": {},
   "source": [
    "## Standardize data columns"
   ]
  },
  {
   "cell_type": "markdown",
   "metadata": {},
   "source": [
    "## Export to csv"
   ]
  },
  {
   "cell_type": "code",
   "execution_count": 18,
   "metadata": {},
   "outputs": [],
   "source": [
    "trump_positive.to_csv('../datasets/trump_positive.csv', index = False)"
   ]
  },
  {
   "cell_type": "code",
   "execution_count": 19,
   "metadata": {},
   "outputs": [],
   "source": [
    "trump_negative.to_csv('../datasets/trump_negative.csv', index = False)"
   ]
  },
  {
   "cell_type": "code",
   "execution_count": null,
   "metadata": {},
   "outputs": [],
   "source": []
  }
 ],
 "metadata": {
  "kernelspec": {
   "display_name": "Python 3",
   "language": "python",
   "name": "python3"
  },
  "language_info": {
   "codemirror_mode": {
    "name": "ipython",
    "version": 3
   },
   "file_extension": ".py",
   "mimetype": "text/x-python",
   "name": "python",
   "nbconvert_exporter": "python",
   "pygments_lexer": "ipython3",
   "version": "3.7.4"
  }
 },
 "nbformat": 4,
 "nbformat_minor": 2
}
