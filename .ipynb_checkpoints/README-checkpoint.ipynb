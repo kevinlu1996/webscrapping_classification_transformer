{
 "cells": [
  {
   "cell_type": "markdown",
   "metadata": {},
   "source": [
    "# Overview"
   ]
  },
  {
   "cell_type": "markdown",
   "metadata": {},
   "source": [
    "The goal of this project is to use [Pushshift's](https://github.com/pushshift/api) Reddit API to retrieve data from 2 different subreddits and build an optimized classification model to predict each post's origin subreddit"
   ]
  },
  {
   "cell_type": "markdown",
   "metadata": {},
   "source": [
    "## Source of the data"
   ]
  },
  {
   "cell_type": "markdown",
   "metadata": {},
   "source": [
    "1. [AskThe_Donald](https://www.reddit.com/r/AskThe_Donald/), a pro-Trump subreddit. \n"
   ]
  },
  {
   "cell_type": "markdown",
   "metadata": {},
   "source": [
    "2. [Enough Trump Spam](https://www.reddit.com/r/EnoughTrumpSpam/), an anti-Trump subreddit. "
   ]
  },
  {
   "cell_type": "markdown",
   "metadata": {},
   "source": [
    "## Data Gathering"
   ]
  },
  {
   "cell_type": "markdown",
   "metadata": {},
   "source": [
    "Using the api, I gathered 5000 latest posts from each subreddit with purpose to create a balanced dataset, so the full dataset has  10,000 posts from both subreddits in total"
   ]
  },
  {
   "cell_type": "markdown",
   "metadata": {},
   "source": [
    "# EDA"
   ]
  },
  {
   "cell_type": "markdown",
   "metadata": {},
   "source": [
    "## Data Cleaning"
   ]
  },
  {
   "cell_type": "markdown",
   "metadata": {},
   "source": [
    "### Subreddit"
   ]
  },
  {
   "cell_type": "markdown",
   "metadata": {},
   "source": [
    "Since the purpose of the project is to classify subreddit, I changed column \"subreddit\" from subreddit name to 0 for anti-Trump, Enough Trump Spam and 1 for pro-Trump, AskThe_Donald. "
   ]
  },
  {
   "cell_type": "markdown",
   "metadata": {},
   "source": [
    "### Title and Self text"
   ]
  },
  {
   "cell_type": "markdown",
   "metadata": {},
   "source": [
    "The column \"Title\" shows the title of the post, and \"self text\" shows the actual text in the post. There are many removed posts from reddit, which results in many null values in \"self text\" column. I filled null column with '999', and combined title and self text to 1 \"combined\" column"
   ]
  },
  {
   "cell_type": "markdown",
   "metadata": {},
   "source": [
    "### Stop words"
   ]
  },
  {
   "cell_type": "markdown",
   "metadata": {},
   "source": [
    "In addition to import stopwords from sklearn, I manually created a stop word lists include words that are frequently shown in posts from both subreddits, pronouns, verbs, adjectives that have no important meanings. "
   ]
  },
  {
   "cell_type": "markdown",
   "metadata": {},
   "source": [
    "## Data Visualization"
   ]
  },
  {
   "cell_type": "markdown",
   "metadata": {},
   "source": [
    "Through data visualization, I found some interesting relationships between users from both groups. For example, in Enough Trump Spam, there are significantly less text in posts, and the use of total vocabularies in the posts are also smaller than posts from AskThe_Donald. One cause for such imbalance might be due to the large amount memes, images, and other links that are anti-Trump, authors from Enough Trump Spam simply share these images and links instead of writing text. On the other side, there aren't as many outside resource for pro-Trump authors, so they need to use more words to explain their opinions. \n",
    "\n"
   ]
  },
  {
   "cell_type": "markdown",
   "metadata": {},
   "source": [
    "## Graph"
   ]
  },
  {
   "cell_type": "markdown",
   "metadata": {},
   "source": [
    "![TEST](./image/wordcount.png)\n",
    "![lenpost](./image/lenpost.png) \n",
    "![textpost](./image/textpost.png) \n",
    "![vocab](./image/vocab.png)\n",
    "![comment](./image/comment.png)\n",
    "![wordcloud](./image/wordcloud.png)"
   ]
  },
  {
   "cell_type": "markdown",
   "metadata": {},
   "source": [
    "# Model"
   ]
  },
  {
   "cell_type": "markdown",
   "metadata": {},
   "source": [
    "### Feature"
   ]
  },
  {
   "cell_type": "markdown",
   "metadata": {},
   "source": [
    "I used \"subreddit\" in 1 and 0 as y, and \"combination\", which combined title and self text as X. I splitted the data into 70% train data and 30% test."
   ]
  },
  {
   "cell_type": "markdown",
   "metadata": {},
   "source": [
    "### Model 1: Logistic Regression CountVectorizer"
   ]
  },
  {
   "cell_type": "markdown",
   "metadata": {},
   "source": [
    "Using pipeline and GridsearchCV, I chose the beset parameter from the range and train a model based on the best parameter. In the end, I received 0.92 for train accuracy and 0.877 for test accuracy. The model predicted 79% of posts from Enough Trump Spam correctly, and 96% of posts from AskThe_Donald correctly."
   ]
  },
  {
   "cell_type": "markdown",
   "metadata": {},
   "source": [
    "![logC](./image/logC.png)"
   ]
  },
  {
   "cell_type": "markdown",
   "metadata": {},
   "source": [
    "### Model 2: Logistic Regression TFIDFVectorizer"
   ]
  },
  {
   "cell_type": "markdown",
   "metadata": {},
   "source": [
    "In this model, I used the same parameter as CountVectorizer. By using its best parameter, I received 0.93 for train accuracy and 0.912 for test accuracy. The model predicted 87% of posts from Enough Trump Spam correctly, and 95% of posts from AskThe_Donald correctly."
   ]
  },
  {
   "cell_type": "markdown",
   "metadata": {},
   "source": [
    "![logT](./image/logT.png)"
   ]
  },
  {
   "cell_type": "markdown",
   "metadata": {},
   "source": [
    "### Model 3: Voting Classifier TFIDFVectorizer"
   ]
  },
  {
   "cell_type": "markdown",
   "metadata": {},
   "source": [
    "I used Adaboost, Gradient Boost, and Random Forest in the Voting Classifier to get the best model with TFIDFVectorizer. I received 0.93 for train acuracy and 0.91 for test accuracy. The model predict 87% of posts from Enough Trump Spam correctly, and 95% of posts from AskThe_Donald correctly."
   ]
  },
  {
   "cell_type": "markdown",
   "metadata": {},
   "source": [
    "![vc](./image/vc.png)"
   ]
  },
  {
   "cell_type": "markdown",
   "metadata": {},
   "source": [
    "# Conclusion"
   ]
  },
  {
   "cell_type": "markdown",
   "metadata": {},
   "source": [
    "- All models perform relatively well to separate class.\n",
    "- Model 2,3 achieve higher accuracy, so they fit well for pro-Trump authors. \n",
    "- All Models achieves high specificity, so they are optimal for anti-Trump authors.\n",
    "- Low number of  text posts in anti-Trump subreddit might cause inaccuracy in prediction model. We need further research to identify if short on text is commonly seen or caused by small sample size"
   ]
  }
 ],
 "metadata": {
  "kernelspec": {
   "display_name": "Python 3",
   "language": "python",
   "name": "python3"
  },
  "language_info": {
   "codemirror_mode": {
    "name": "ipython",
    "version": 3
   },
   "file_extension": ".py",
   "mimetype": "text/x-python",
   "name": "python",
   "nbconvert_exporter": "python",
   "pygments_lexer": "ipython3",
   "version": "3.7.4"
  }
 },
 "nbformat": 4,
 "nbformat_minor": 2
}
